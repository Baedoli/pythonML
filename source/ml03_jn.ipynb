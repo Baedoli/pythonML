{
 "cells": [
  {
   "cell_type": "code",
   "execution_count": 8,
   "outputs": [],
   "source": [
    "import pandas as pd\n",
    "from IPython.display import display, clear_output\n",
    "from ipywidgets import Dropdown"
   ],
   "metadata": {
    "collapsed": false,
    "pycharm": {
     "name": "#%%\n"
    }
   }
  },
  {
   "cell_type": "code",
   "execution_count": 26,
   "outputs": [
    {
     "data": {
      "text/plain": "   order_id  store_id customer_id  coupon_cd  sales_detail_id  \\\n0  34104383        11   C65806632         57         61573513   \n1  70652318        59   C09760173         37         54068709   \n2  71640388       195   C61227084         17         93678366   \n3  75673365       127   C64119972         17          5287952   \n4   9077529       174   C10231192         18         18248867   \n\n  order_accept_date    delivered_date  takeout_flag  total_amount  status  \\\n0  2021-04-01 11:00  2021-04-01 11:39             1         28270       1   \n1  2021-04-01 11:00  2021-04-01 11:34             0         28270       2   \n2  2021-04-01 11:00  2021-04-01 11:54             0         26470       9   \n3  2021-04-01 11:00  2021-04-01 11:17             0         23080       2   \n4  2021-04-01 11:00  2021-04-01 11:35             0         46920       2   \n\n  store_name area_cd wide_area narrow_area  \n0       자양로점      SL        서울          서울  \n1     가마산로2점      SL        서울          서울  \n2       화중로점      GB        경기        경기북부  \n3       분포로점      BS        부산          부산  \n4      하남산단점      GJ        광주          광주  ",
      "text/html": "<div>\n<style scoped>\n    .dataframe tbody tr th:only-of-type {\n        vertical-align: middle;\n    }\n\n    .dataframe tbody tr th {\n        vertical-align: top;\n    }\n\n    .dataframe thead th {\n        text-align: right;\n    }\n</style>\n<table border=\"1\" class=\"dataframe\">\n  <thead>\n    <tr style=\"text-align: right;\">\n      <th></th>\n      <th>order_id</th>\n      <th>store_id</th>\n      <th>customer_id</th>\n      <th>coupon_cd</th>\n      <th>sales_detail_id</th>\n      <th>order_accept_date</th>\n      <th>delivered_date</th>\n      <th>takeout_flag</th>\n      <th>total_amount</th>\n      <th>status</th>\n      <th>store_name</th>\n      <th>area_cd</th>\n      <th>wide_area</th>\n      <th>narrow_area</th>\n    </tr>\n  </thead>\n  <tbody>\n    <tr>\n      <th>0</th>\n      <td>34104383</td>\n      <td>11</td>\n      <td>C65806632</td>\n      <td>57</td>\n      <td>61573513</td>\n      <td>2021-04-01 11:00</td>\n      <td>2021-04-01 11:39</td>\n      <td>1</td>\n      <td>28270</td>\n      <td>1</td>\n      <td>자양로점</td>\n      <td>SL</td>\n      <td>서울</td>\n      <td>서울</td>\n    </tr>\n    <tr>\n      <th>1</th>\n      <td>70652318</td>\n      <td>59</td>\n      <td>C09760173</td>\n      <td>37</td>\n      <td>54068709</td>\n      <td>2021-04-01 11:00</td>\n      <td>2021-04-01 11:34</td>\n      <td>0</td>\n      <td>28270</td>\n      <td>2</td>\n      <td>가마산로2점</td>\n      <td>SL</td>\n      <td>서울</td>\n      <td>서울</td>\n    </tr>\n    <tr>\n      <th>2</th>\n      <td>71640388</td>\n      <td>195</td>\n      <td>C61227084</td>\n      <td>17</td>\n      <td>93678366</td>\n      <td>2021-04-01 11:00</td>\n      <td>2021-04-01 11:54</td>\n      <td>0</td>\n      <td>26470</td>\n      <td>9</td>\n      <td>화중로점</td>\n      <td>GB</td>\n      <td>경기</td>\n      <td>경기북부</td>\n    </tr>\n    <tr>\n      <th>3</th>\n      <td>75673365</td>\n      <td>127</td>\n      <td>C64119972</td>\n      <td>17</td>\n      <td>5287952</td>\n      <td>2021-04-01 11:00</td>\n      <td>2021-04-01 11:17</td>\n      <td>0</td>\n      <td>23080</td>\n      <td>2</td>\n      <td>분포로점</td>\n      <td>BS</td>\n      <td>부산</td>\n      <td>부산</td>\n    </tr>\n    <tr>\n      <th>4</th>\n      <td>9077529</td>\n      <td>174</td>\n      <td>C10231192</td>\n      <td>18</td>\n      <td>18248867</td>\n      <td>2021-04-01 11:00</td>\n      <td>2021-04-01 11:35</td>\n      <td>0</td>\n      <td>46920</td>\n      <td>2</td>\n      <td>하남산단점</td>\n      <td>GJ</td>\n      <td>광주</td>\n      <td>광주</td>\n    </tr>\n  </tbody>\n</table>\n</div>"
     },
     "execution_count": 26,
     "metadata": {},
     "output_type": "execute_result"
    }
   ],
   "source": [
    "path = '/Users/baeseongho/PycharmProjects/pythonML/'\n",
    "m_store = pd.read_csv(path+'m_store.csv')\n",
    "m_area = pd.read_csv(path+'m_area.csv')\n",
    "order_date = pd.read_csv(path+'tbl_order_202104.csv')\n",
    "order_date = pd.merge(order_date,m_store,on='store_id',how='left')\n",
    "order_date = pd.merge(order_date,m_area,on='area_cd',how='left')\n",
    "order_date.head()"
   ],
   "metadata": {
    "collapsed": false,
    "pycharm": {
     "name": "#%%\n"
    }
   }
  },
  {
   "cell_type": "code",
   "execution_count": 27,
   "outputs": [],
   "source": [
    "order_date.loc[order_date['takeout_flag']==0,'takeout_name'] = 'delivery'\n",
    "order_date.loc[order_date['takeout_flag']==1,'takeout_name'] = 'takeout'"
   ],
   "metadata": {
    "collapsed": false,
    "pycharm": {
     "name": "#%%\n"
    }
   }
  },
  {
   "cell_type": "code",
   "execution_count": 28,
   "outputs": [],
   "source": [
    "order_date.loc[order_date['status']==0,'status_name'] = '주문접수'\n",
    "order_date.loc[order_date['status']==1,'status_name'] = '결재완료'\n",
    "order_date.loc[order_date['status']==2,'status_name'] = '배달완료'\n",
    "order_date.loc[order_date['status']==9,'status_name'] = '주문취소'"
   ],
   "metadata": {
    "collapsed": false,
    "pycharm": {
     "name": "#%%\n"
    }
   }
  },
  {
   "cell_type": "code",
   "execution_count": 29,
   "outputs": [
    {
     "data": {
      "text/plain": "Dropdown(description='지역 선택 :', options=('삼일대로점', '세종대로점', '무교로점', '덕수궁길점', '서소문로점', '청계청로점', '노해로점', '당산로점', …",
      "application/vnd.jupyter.widget-view+json": {
       "version_major": 2,
       "version_minor": 0,
       "model_id": "56dfc649eb8549d6813ace39a817989c"
      }
     },
     "metadata": {},
     "output_type": "display_data"
    }
   ],
   "source": [
    "def order_by_store(val) :\n",
    "    clear_output()\n",
    "    display(dropdown)\n",
    "    pick_data = order_date.loc[(order_date['store_name']==val['new'])&(order_date['status'].isin([1,2]))]\n",
    "    display(pick_data.head())\n",
    "\n",
    "store_list = m_store['store_name'].to_list()\n",
    "dropdown = Dropdown(options=store_list,description='지역 선택 :')\n",
    "dropdown.observe(order_by_store,names='value')\n",
    "display(dropdown)\n"
   ],
   "metadata": {
    "collapsed": false,
    "pycharm": {
     "name": "#%%\n"
    }
   }
  },
  {
   "cell_type": "code",
   "execution_count": 34,
   "outputs": [
    {
     "data": {
      "text/plain": "Dropdown(options=('삼일대로점', '세종대로점', '무교로점', '덕수궁길점', '서소문로점', '청계청로점', '노해로점', '당산로점', '남부순환로점', '성내로점', '자양로점…",
      "application/vnd.jupyter.widget-view+json": {
       "version_major": 2,
       "version_minor": 0,
       "model_id": "1b6d0ed5d2d14046bf37f85c3480f08f"
      }
     },
     "metadata": {},
     "output_type": "display_data"
    }
   ],
   "source": [
    "%matplotlib inline\n",
    "import matplotlib.pyplot as plt\n",
    "\n",
    "# 한글 폰트 처리\n",
    "import  os\n",
    "if os.name == 'nt' :\n",
    "    plt.rc('font', family='Malgun Gothic')\n",
    "elif os.name == 'posix' :\n",
    "    plt.rc('font', family='AppleGothic')\n",
    "\n",
    "plt.rc('axes', unicode_minus=False )\n",
    "\n",
    "def graph_by_store(val) :\n",
    "    clear_output()\n",
    "    display(dropdown2)\n",
    "    pick_data = order_date.loc[(order_date['store_name']==val['new'])&(order_date['status'].isin([1,2]))]\n",
    "    temp = pick_data[['order_accept_date','total_amt']].copy()\n",
    "    temp.loc[:,'order_accept_date'] = pd.to_datetime(temp['order_accept_date'])\n",
    "    temp.set_index('order_accept_date',inplace=True)\n",
    "    temp.resample('D').sum().plot()\n",
    "\n",
    "dropdown2 = Dropdown(options=store_list)\n",
    "dropdown2.observe(graph_by_store,names='value')\n",
    "display(dropdown2)\n"
   ],
   "metadata": {
    "collapsed": false,
    "pycharm": {
     "name": "#%%\n"
    }
   }
  },
  {
   "cell_type": "code",
   "execution_count": 38,
   "outputs": [
    {
     "data": {
      "text/plain": "SelectMultiple(options=('삼일대로점', '세종대로점', '무교로점', '덕수궁길점', '서소문로점', '청계청로점', '노해로점', '당산로점', '남부순환로점', '성내로점',…",
      "application/vnd.jupyter.widget-view+json": {
       "version_major": 2,
       "version_minor": 0,
       "model_id": "64188bb8f246400088e4abfc32d62b09"
      }
     },
     "metadata": {},
     "output_type": "display_data"
    }
   ],
   "source": [
    "from ipywidgets import SelectMultiple\n",
    "def order_by_multi(val):\n",
    "    clear_output()\n",
    "    display(select)\n",
    "    pick_date = order_date.loc[(order_date['store_name']==val['new'])&(order_date['status'].isin(([1,2])))]\n",
    "    display(pick_date.head())\n",
    "\n",
    "select = SelectMultiple(options=store_list)\n",
    "select.observe(order_by_multi,names='value')\n",
    "display(select)"
   ],
   "metadata": {
    "collapsed": false,
    "pycharm": {
     "name": "#%%\n"
    }
   }
  },
  {
   "cell_type": "code",
   "execution_count": null,
   "outputs": [],
   "source": [],
   "metadata": {
    "collapsed": false,
    "pycharm": {
     "name": "#%%\n"
    }
   }
  }
 ],
 "metadata": {
  "kernelspec": {
   "display_name": "Python 3",
   "language": "python",
   "name": "python3"
  },
  "language_info": {
   "codemirror_mode": {
    "name": "ipython",
    "version": 2
   },
   "file_extension": ".py",
   "mimetype": "text/x-python",
   "name": "python",
   "nbconvert_exporter": "python",
   "pygments_lexer": "ipython2",
   "version": "2.7.6"
  }
 },
 "nbformat": 4,
 "nbformat_minor": 0
}